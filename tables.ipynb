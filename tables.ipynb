{
 "cells": [
  {
   "cell_type": "markdown",
   "id": "7792cb46224d489e",
   "metadata": {
    "collapsed": false,
    "jupyter": {
     "outputs_hidden": false
    }
   },
   "source": [
    "# Tables"
   ]
  },
  {
   "cell_type": "code",
   "execution_count": 1,
   "id": "14e818f3689d81a8",
   "metadata": {
    "collapsed": false,
    "jupyter": {
     "outputs_hidden": false
    }
   },
   "outputs": [],
   "source": [
    "import os\n",
    "import warnings\n",
    "import pandas as pd\n",
    "from tableone import TableOne"
   ]
  },
  {
   "cell_type": "code",
   "execution_count": 2,
   "id": "eeffe319ca03a0fc",
   "metadata": {
    "collapsed": false,
    "jupyter": {
     "outputs_hidden": false
    }
   },
   "outputs": [],
   "source": [
    "# Import dataset\n",
    "df = pd.read_excel(\"data/dataset_fda_devices.xlsx\")\n",
    "df[\"Recall\"] = df[\"Recall\"].replace({\"no\": \"Available\", \"yes\": \"Recalled\"})"
   ]
  },
  {
   "cell_type": "code",
   "execution_count": 3,
   "id": "3dd6756341aeeec1",
   "metadata": {
    "collapsed": false,
    "jupyter": {
     "outputs_hidden": false
    }
   },
   "outputs": [],
   "source": [
    "df[\"Summary Malfunction Reporting\"] = df[\"Summary Malfunction Reporting\"].replace({\"no\": \"ineligible\"}).apply(str.capitalize)\n",
    "df[\"Clinical Performance Study\"] = df[\"Clinical Performance Study\"].apply(lambda x: \"Missing information\" if x not in [\"yes\", \"no\"] else x.capitalize())\n",
    "for col in [\"DICOM compliance\", \"CP results sex available\", \"CP results age available\"]:\n",
    "    df[col] = df[col].apply(lambda x: \"Missing information\" if x != \"yes\" else \"Yes\")"
   ]
  },
  {
   "cell_type": "code",
   "execution_count": 4,
   "id": "9b8774273bf7281b",
   "metadata": {
    "collapsed": false,
    "jupyter": {
     "outputs_hidden": false
    }
   },
   "outputs": [],
   "source": [
    "# Dates to datetime format\n",
    "date_columns = [col for col in df.columns if \"Date\" in col]\n",
    "df[date_columns] = df[date_columns].apply(pd.to_datetime)\n",
    "df[\"Decision Time\"] = (df[\"Decision Date\"] - df[\"Date Received\"]).dt.days\n",
    "df[\"Recall Time\"] = (df[\"FDA Recall Posting Date\"] - df[\"Date of Final Decision\"]).dt.days"
   ]
  },
  {
   "cell_type": "code",
   "execution_count": 5,
   "id": "fd068140035c9cfc",
   "metadata": {
    "collapsed": false,
    "jupyter": {
     "outputs_hidden": false
    }
   },
   "outputs": [],
   "source": [
    "panels = [\"Anesthesiology\", \"Cardiovascular\", \"Gastroenterology/Urology\", \"Hematology\", \"Neurology\", \"Ophthalmic\", \"Radiology\"]\n",
    "df[\"Panel\"] = df[\"Panel (Lead)\"].apply(lambda x: \"Other\" if x not in panels else x)"
   ]
  },
  {
   "cell_type": "code",
   "execution_count": 6,
   "id": "3d60a1e5125b9148",
   "metadata": {
    "collapsed": false,
    "jupyter": {
     "outputs_hidden": false
    }
   },
   "outputs": [
    {
     "name": "stdout",
     "output_type": "stream",
     "text": [
      "                                                                  Overall         Available      Recalled\n",
      "--------------------------------------  ------------------------  --------------  -------------  --------------\n",
      "n                                                                 903             860            43\n",
      "Geographic area, n (%)                  Asia                      154 (17)        147 (17)       7 (16)\n",
      "                                        Europe                    183 (20)        175 (20)       8 (19)\n",
      "                                        Northamerica              467 (52)        442 (51)       25 (58)\n",
      "                                        other                     99 (11)         96 (11)        3 (7)\n",
      "Panel, n (%)                            Anesthesiology            9 (1)           9 (1)\n",
      "                                        Cardiovascular            91 (10)         88 (10)        3 (7)\n",
      "                                        Gastroenterology/Urology  14 (2)          13 (2)         1 (2)\n",
      "                                        Hematology                17 (2)          14 (2)         3 (7)\n",
      "                                        Neurology                 29 (3)          28 (3)         1 (2)\n",
      "                                        Ophthalmic                10 (1)          10 (1)\n",
      "                                        Other                     41 (5)          36 (4)         5 (12)\n",
      "                                        Radiology                 692 (77)        662 (77)       30 (70)\n",
      "Submission Type, n (%)                  510(k)                    898 (99)        856 (100)      42 (98)\n",
      "                                        510(k) Exempt             3 (0)           3 (0)\n",
      "                                        PMA                       2 (0)           1 (0)          1 (2)\n",
      "Eligible for Third Party Review, n (%)  eligible                  437 (48)        413 (48)       24 (56)\n",
      "                                        ineligible                466 (52)        447 (52)       19 (44)\n",
      "Summary Malfunction Reporting, n (%)    Eligible                  552 (61)        515 (60)       37 (86)\n",
      "                                        Ineligible                351 (39)        345 (40)       6 (14)\n",
      "Implanted Device, n (%)                 no                        897 (99)        856 (100)      41 (95)\n",
      "                                        yes                       6 (1)           4 (0)          2 (5)\n",
      "Physical State, n (%)                   Software                  664 (74)        650 (76)       14 (33)\n",
      "                                        Software + Device         239 (26)        210 (24)       29 (67)\n",
      "DICOM compliance, n (%)                 Missing information       344 (38)        321 (37)       23 (53)\n",
      "                                        Yes                       559 (62)        539 (63)       20 (47)\n",
      "Clinical Performance Study, n (%)       Missing information       180 (20)        167 (19)       13 (30)\n",
      "                                        No                        218 (24)        201 (23)       17 (40)\n",
      "                                        Yes                       505 (56)        492 (57)       13 (30)\n",
      "Decision Time, median [Q1,Q3]                                     137 [89,218]    137 [89,222]   134 [86,186]\n",
      "Recall Time, median [Q1,Q3]                                       458 [263,1092]  nan [nan,nan]  458 [263,1092]\n"
     ]
    }
   ],
   "source": [
    "warnings.filterwarnings('ignore')\n",
    "columns = [\"Geographic area\", \"Panel\", \"Submission Type\", \"Eligible for Third Party Review\", \"Summary Malfunction Reporting\",\n",
    "           \"Implanted Device\", \"Physical State\", \"DICOM compliance\", \"Clinical Performance Study\", \"Decision Time\", \"Recall Time\"]\n",
    "non_normal = [\"Decision Time\", \"Recall Time\"]\n",
    "categorical = [col for col in columns if col not in non_normal]\n",
    "for column in columns:\n",
    "    if df[column].dtype =='0':\n",
    "        df[column] = df[column].apply(str.capitalize)\n",
    "table_all = TableOne(df, columns=columns, categorical=categorical, nonnormal=non_normal, groupby=\"Recall\", missing=False, decimals=0)\n",
    "os.makedirs(\"tables\", exist_ok=True)\n",
    "table_all.to_excel(f\"tables/Table1_1.xlsx\")\n",
    "print(table_all.tabulate(tablefmt=\"fancygrid\"))"
   ]
  },
  {
   "cell_type": "code",
   "execution_count": 7,
   "id": "79bc5129d95d21cc",
   "metadata": {
    "collapsed": false,
    "jupyter": {
     "outputs_hidden": false
    }
   },
   "outputs": [
    {
     "name": "stdout",
     "output_type": "stream",
     "text": [
      "                                                      Overall    Available    Recalled\n",
      "-------------------------------  -------------------  ---------  -----------  ----------\n",
      "n                                                     505        492          13\n",
      "CP Study-type, n (%)             Missing              259 (51)   251 (51)     8 (62)\n",
      "                                 Prospective          41 (8)     38 (8)       3 (23)\n",
      "                                 Randomized           12 (2)     11 (2)       1 (8)\n",
      "                                 Retrospective        193 (38)   192 (39)     1 (8)\n",
      "CP results sex available, n (%)  Missing information  360 (71)   348 (71)     12 (92)\n",
      "                                 Yes                  145 (29)   144 (29)     1 (8)\n",
      "CP results age available, n (%)  Missing information  388 (77)   377 (77)     11 (85)\n",
      "                                 Yes                  117 (23)   115 (23)     2 (15)\n"
     ]
    }
   ],
   "source": [
    "df_cp = df[df[\"Clinical Performance Study\"] == \"Yes\"].copy()\n",
    "columns = [\"CP Study-type\", \"CP results sex available\", \"CP results age available\"]\n",
    "table_all = TableOne(df_cp, columns=columns, categorical=columns, groupby=\"Recall\", missing=False, decimals=0)\n",
    "os.makedirs(\"tables\", exist_ok=True)\n",
    "table_all.to_excel(f\"tables/Table1_2.xlsx\")\n",
    "print(table_all.tabulate(tablefmt=\"fancygrid\"))"
   ]
  }
 ],
 "metadata": {
  "kernelspec": {
   "display_name": "Python 3 (ipykernel)",
   "language": "python",
   "name": "python3"
  },
  "language_info": {
   "codemirror_mode": {
    "name": "ipython",
    "version": 3
   },
   "file_extension": ".py",
   "mimetype": "text/x-python",
   "name": "python",
   "nbconvert_exporter": "python",
   "pygments_lexer": "ipython3",
   "version": "3.10.12"
  }
 },
 "nbformat": 4,
 "nbformat_minor": 5
}

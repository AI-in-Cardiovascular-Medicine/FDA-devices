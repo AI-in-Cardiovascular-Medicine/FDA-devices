{
 "cells": [
  {
   "cell_type": "markdown",
   "id": "7792cb46224d489e",
   "metadata": {
    "collapsed": false
   },
   "source": [
    "# Plots"
   ]
  },
  {
   "cell_type": "code",
   "execution_count": null,
   "id": "initial_id",
   "metadata": {},
   "outputs": [],
   "source": [
    "import os\n",
    "\n",
    "import pandas as pd\n",
    "import numpy as np\n",
    "from itertools import product\n",
    "import seaborn as sns\n",
    "import matplotlib.pyplot as plt\n",
    "from matplotlib.ticker import MaxNLocator\n",
    "import plotly.graph_objects as go\n",
    "\n",
    "from utils import SankeyPlot\n",
    "\n",
    "dpi = 600\n",
    "sns.reset_defaults()"
   ]
  },
  {
   "cell_type": "code",
   "execution_count": null,
   "id": "75e84030a87cf88",
   "metadata": {
    "collapsed": false
   },
   "outputs": [],
   "source": [
    "# Import dataset\n",
    "df = pd.read_excel(\"data/dataset_fda_devices.xlsx\")"
   ]
  },
  {
   "cell_type": "code",
   "execution_count": null,
   "id": "b653433029c8f59e",
   "metadata": {
    "collapsed": false
   },
   "outputs": [],
   "source": [
    "# Dates to datetime format\n",
    "date_columns = [col for col in df.columns if \"Date\" in col]\n",
    "df[date_columns] = df[date_columns].apply(pd.to_datetime)\n",
    "df[\"Year\"] = df[\"Date of Final Decision\"].dt.year"
   ]
  },
  {
   "cell_type": "code",
   "execution_count": null,
   "id": "cfea184070f39697",
   "metadata": {
    "collapsed": false
   },
   "outputs": [],
   "source": [
    "df = df.replace({\"summary not available\": np.NAN})"
   ]
  },
  {
   "cell_type": "code",
   "execution_count": null,
   "id": "8ffb33e983396ff0",
   "metadata": {
    "collapsed": false
   },
   "outputs": [],
   "source": [
    "df[[\"Clinical Performance Study\"]].value_counts()"
   ]
  },
  {
   "cell_type": "code",
   "execution_count": null,
   "id": "2aa624ea04564aba",
   "metadata": {
    "collapsed": false
   },
   "outputs": [],
   "source": [
    "df[[\"Submission Number\", \"Device\", \"Company\", \"Recall\", \"Date of Final Decision\", \"FDA Recall Posting Date\", \"Clinical Performance Study\"]].to_csv(\"fda_devices_dataset.csv\", index=False)"
   ]
  },
  {
   "cell_type": "code",
   "execution_count": null,
   "id": "1801a05cf4e14a1e",
   "metadata": {
    "collapsed": false
   },
   "outputs": [],
   "source": [
    "os.makedirs(\"plots\", exist_ok=True)"
   ]
  },
  {
   "cell_type": "markdown",
   "id": "78621850c4d57e35",
   "metadata": {
    "collapsed": false
   },
   "source": [
    "## Figure 1\n",
    "Total number of available FDA-approved AI-enabled medical devices by country (above) and percentage of recalled devices after FDA-approval by country (below)."
   ]
  },
  {
   "cell_type": "code",
   "execution_count": null,
   "id": "c0f64c9626cf328d",
   "metadata": {
    "collapsed": false
   },
   "outputs": [],
   "source": [
    "# Create dataframe with FDA-approved devices count per country\n",
    "df[\"count\"] = np.ones(len(df))\n",
    "df_counts = df.groupby(\"Country Applicant\").sum(numeric_only=True)[[\"count\"]]\n",
    "df_alpha_codes = pd.read_csv(\"data/country_alpha_codes.csv\")\n",
    "df_alpha_codes = df_alpha_codes.rename({\"Country\": \"Country Applicant\", \"Alpha-3 code\": \"alpha_code\"}, axis=1)\n",
    "df_alpha_codes[\"alpha_code\"] = df_alpha_codes[\"alpha_code\"].apply(lambda x: x.replace('\"', ''))\n",
    "df_alpha_codes[\"alpha_code\"] = df_alpha_codes[\"alpha_code\"].apply(lambda x: x.replace(\" \", \"\"))\n",
    "df_counts = df_counts.merge(df_alpha_codes[[\"Country Applicant\", \"alpha_code\"]], on=\"Country Applicant\", how=\"left\")\n",
    "df_counts.drop(df_counts[df_counts[\"Country Applicant\"]==\"not accessible\"].index, inplace=True)\n",
    "df_counts[\"alpha_code\"] = df_counts[\"alpha_code\"].apply(lambda x: x.replace(\" \", \"\"))\n",
    "df_counts.head()"
   ]
  },
  {
   "cell_type": "code",
   "execution_count": null,
   "id": "9c0f53aa7c013442",
   "metadata": {
    "collapsed": false
   },
   "outputs": [],
   "source": [
    "# Create dataframe to count recalled devices per country\n",
    "df_counts_recall = df[df[\"Recall\"]==\"yes\"].groupby(\"Country Applicant\").sum(numeric_only=True)[[\"count\"]]\n",
    "df_counts_recall = df_counts_recall.merge(df_alpha_codes[[\"Country Applicant\", \"alpha_code\"]], on=\"Country Applicant\", how=\"left\")\n",
    "df_counts_recall.drop(df_counts_recall[df_counts_recall[\"Country Applicant\"]==\"not accessible\"].index, inplace=True)\n",
    "df_counts_recall[\"alpha_code\"] = df_counts_recall[\"alpha_code\"].apply(lambda x: x.replace(\" \", \"\"))\n",
    "df_counts_recall.head()"
   ]
  },
  {
   "cell_type": "code",
   "execution_count": null,
   "id": "a71750c981fc3303",
   "metadata": {
    "collapsed": false
   },
   "outputs": [],
   "source": [
    "# Count by year\n",
    "df_counts_year = df.groupby([\"Country Applicant\", \"Year\"]).sum(\"count\")\n",
    "df_counts_year.reset_index(inplace=True)\n",
    "df_counts_year = df_counts_year.sort_values(by=[\"Country Applicant\", \"Year\"])\n",
    "df_counts_year[\"cum_count\"] = df_counts_year.groupby([\"Country Applicant\"]).cumsum()[\"count\"]\n",
    "df_counts_year = df_counts_year.merge(df_alpha_codes[[\"Country Applicant\", \"alpha_code\"]], on=\"Country Applicant\", how=\"left\")\n",
    "df_counts_year.drop(df_counts_year[df_counts_year[\"Country Applicant\"]==\"not accessible\"].index, inplace=True)\n",
    "df_counts_year = df_counts_year.sort_values(\"Year\")\n",
    "df_counts_year.head()"
   ]
  },
  {
   "cell_type": "code",
   "execution_count": null,
   "id": "39468d5a21b1e862",
   "metadata": {
    "collapsed": false
   },
   "outputs": [],
   "source": [
    "# Cumulative count by year\n",
    "country_year = pd.DataFrame(list(product(df_counts_year[\"Country Applicant\"].unique(), df[\"Year\"].unique())), columns=[\"Country Applicant\", \"Year\"])\n",
    "country_year = country_year.merge(df_alpha_codes[[\"Country Applicant\", \"alpha_code\"]], on=\"Country Applicant\", how=\"left\")\n",
    "country_year = country_year.merge(df_counts_year[[\"Country Applicant\", \"Year\", \"cum_count\"]], on=(\"Country Applicant\", \"Year\"), how=\"left\")\n",
    "min_year = df_counts_year.groupby(\"Country Applicant\").min()[\"Year\"]\n",
    "for country, year in min_year.items():\n",
    "    country_year.drop(country_year[(country_year[\"Country Applicant\"]==country) & (country_year[\"Year\"]<year)].index, inplace=True)\n",
    "for country in country_year[\"Country Applicant\"].unique():\n",
    "    country_year[country_year[\"Country Applicant\"] == country] = country_year[country_year[\"Country Applicant\"] == country].bfill()\n",
    "\n",
    "country_year.sort_values([\"Year\"], inplace=True)\n",
    "country_year.sort_values([\"Country Applicant\", \"Year\"]).head()"
   ]
  },
  {
   "cell_type": "code",
   "execution_count": null,
   "id": "9b600c4b21deac0c",
   "metadata": {
    "collapsed": false
   },
   "outputs": [],
   "source": [
    "df.drop(\"count\", axis=1, inplace=True)\n",
    "df = df.merge(df_counts[[\"Country Applicant\", \"alpha_code\"]], on=\"Country Applicant\", how=\"left\")\n",
    "country_year.rename({\"cum_count\": \"Approved devices\"}, axis=1, inplace=True)"
   ]
  },
  {
   "cell_type": "code",
   "execution_count": null,
   "id": "51a36e06bdd73c39",
   "metadata": {
    "collapsed": false
   },
   "outputs": [],
   "source": [
    "df_counts_recall_perc = df_counts_recall[[\"Country Applicant\", \"count\"]].merge(df_counts[[\"count\", \"Country Applicant\", \"alpha_code\"]], on=\"Country Applicant\", suffixes=(\"_recalled\", \"_tot\"), how=\"right\").fillna(0)\n",
    "df_counts_recall_perc[\"perc\"] =  df_counts_recall_perc[\"count_recalled\"].div(df_counts_recall_perc[\"count_tot\"]) * 100\n",
    "\n",
    "colors = [\"Viridis\", \"YlOrRd_r\"]\n",
    "names = [\"all\", \"recalled\"]\n",
    "legend_titles = [\"Approved devices\", \"Recalled devices\"]\n",
    "for i, (df_plot, to_plot) in enumerate(zip([df_counts, df_counts_recall_perc], [\"count\", \"perc\"])):\n",
    "    fig = go.Figure(data=go.Choropleth(\n",
    "        locations = df_plot['alpha_code'],\n",
    "        z = df_plot[to_plot],\n",
    "        text = df['Country Applicant'],\n",
    "        colorscale = colors[i],\n",
    "        autocolorscale=False,\n",
    "        reversescale=True,\n",
    "        marker_line_color='darkgray',\n",
    "        marker_line_width=0.5,\n",
    "        colorbar_title = legend_titles[i],\n",
    "        colorbar_len = 0.6\n",
    "    ))\n",
    "    \n",
    "    fig.update_layout(\n",
    "        margin={\"r\":0,\"t\":0,\"l\":0,\"b\":0},\n",
    "        # title_text='2014 Global GDP',\n",
    "        geo=dict(\n",
    "            showframe=False,\n",
    "            showcoastlines=True,\n",
    "            projection_type='natural earth'\n",
    "        )\n",
    "    )\n",
    "    fig.write_image(f\"plots/Figure1_{i}.pdf\", scale=2, format=\"pdf\")\n",
    "    fig.show()"
   ]
  },
  {
   "cell_type": "markdown",
   "id": "1e3ccdf0397fc019",
   "metadata": {
    "collapsed": false
   },
   "source": [
    "## Figure 2\n",
    "Number of AI-enabled medical devices by specialty, along with details on the design of their clinical performance studies."
   ]
  },
  {
   "cell_type": "code",
   "execution_count": null,
   "id": "39d8aa6f37545e3b",
   "metadata": {
    "collapsed": false
   },
   "outputs": [],
   "source": [
    "df[\"Clinical Performance Study\"].value_counts(dropna=False)"
   ]
  },
  {
   "cell_type": "code",
   "execution_count": null,
   "id": "2c16c645763fc2b9",
   "metadata": {
    "collapsed": false
   },
   "outputs": [],
   "source": [
    "df_x = df.copy()\n",
    "df_x = df_x[df_x[\"Clinical Performance Study\"]==\"yes\"]  # select only devices for which a CP study was performed\n",
    "df_x[\"order\"] = df_x[\"specialty\"].apply(lambda x: {'Cardiovascular': 1, 'Hematology': 3, 'Neurology': 2, 'Radiology': 0, 'Other': 4}[x])\n",
    "df_x = df_x.sort_values(\"order\")\n",
    "df_x.loc[df_x[\"CP Study-type\"]==\"No\", \"CP Study-type\"] = \"Not Specified\"\n",
    "df_x[\"CP Study-type\"] = df_x[\"CP Study-type\"].replace({\"Missing\": \"Missing info\"})\n",
    "df_x[\"CP Study-type\"] = df_x[\"CP Study-type\"].astype(\"category\")\n",
    "df_x[\"CP Study-type\"] = df_x[\"CP Study-type\"].cat.remove_unused_categories() "
   ]
  },
  {
   "cell_type": "code",
   "execution_count": null,
   "id": "3d96d2520c9397c0",
   "metadata": {
    "collapsed": false
   },
   "outputs": [],
   "source": [
    "sns.reset_defaults()\n",
    "sns.set_style(\"white\", {'figure.facecolor': 'white'})\n",
    "fig, ax = plt.subplots(1, figsize=(8, 5))\n",
    "sns.set(font_scale=1.3)\n",
    "sns.histplot(df_x, y=\"specialty\", hue=\"CP Study-type\", multiple=\"dodge\", fill=True, shrink=0.6, ax=ax)\n",
    "ax.set_xlabel(\"Number of devices\", fontsize=14)\n",
    "ax.set_ylabel(\"\")\n",
    "ax.tick_params(axis='y', which='major', labelsize=15)\n",
    "legend = ax.get_legend()\n",
    "frame = legend.get_frame()\n",
    "frame.set_facecolor(\"white\")\n",
    "legend.set_title(\"Clinical performance study\")\n",
    "plt.savefig(\"plots/Figure2.pdf\", dpi=dpi, bbox_inches='tight', format=\"pdf\")\n",
    "sns.set(font_scale=1)\n",
    "plt.show()"
   ]
  },
  {
   "cell_type": "markdown",
   "id": "17e4c6a97b3c2c2b",
   "metadata": {
    "collapsed": false
   },
   "source": [
    "## Figure 3\n",
    "Performance distribution and relationships among AUC, sensitivity, and specificity metrics for AI-enabled medical devices in clinical performance studies."
   ]
  },
  {
   "cell_type": "code",
   "execution_count": null,
   "id": "f1c5330372140e2d",
   "metadata": {
    "collapsed": false
   },
   "outputs": [],
   "source": [
    "df = df.rename({\"AUC_cp\": \"AUC\", \"Sens_cp\": \"Sensitivity\", \"Spec_cp\": \"Specificity\"}, axis=1)\n",
    "df[\"Recall\"] = df[\"Recall\"].replace({\"no\": \"Available device\", \"yes\": \"Recalled device\"})"
   ]
  },
  {
   "cell_type": "code",
   "execution_count": null,
   "id": "ff59ef492d2817e8",
   "metadata": {
    "collapsed": false
   },
   "outputs": [],
   "source": [
    "metrics = [\"AUC\", \"Sensitivity\", \"Specificity\"]\n",
    "for metric in metrics:\n",
    "    df[metric] = pd.to_numeric(df[metric], errors=\"coerce\")"
   ]
  },
  {
   "cell_type": "code",
   "execution_count": null,
   "id": "58d2f37c-849e-4876-a978-c0f78d00f6dc",
   "metadata": {},
   "outputs": [],
   "source": [
    "sns.reset_defaults()\n",
    "a = sns.pairplot(df[metrics+[\"Recall\"]], hue=\"Recall\", plot_kws={\"alpha\": 0.5},\n",
    "                 diag_kind=\"hist\", diag_kws={\"binwidth\": 0.04, \"stat\": \"density\", \"linewidth\": 0.5})\n",
    "for ax in a.axes[2, :]:\n",
    "    ax.set_xlabel(ax.get_xlabel(), fontweight=\"bold\")\n",
    "for ax in a.axes[:, 0]:\n",
    "    ax.set_ylabel(ax.get_ylabel(), fontweight=\"bold\")\n",
    "\n",
    "a.axes[0,1].clear()\n",
    "a.axes[0,1].set_axis_off()\n",
    "a.axes[0,2].clear()\n",
    "a.axes[0,2].set_axis_off()\n",
    "a.axes[1,2].clear()\n",
    "a.axes[1,2].set_axis_off()\n",
    "\n",
    "for ax_ in a.axes:\n",
    "    for i, ax in enumerate(ax_):\n",
    "        ax.set_xlim(0.15)\n",
    "        ax.set_ylim(0.2)\n",
    "\n",
    "handles = a._legend_data.values()\n",
    "labels = a._legend_data.keys()\n",
    "a._legend.remove()\n",
    "a.axes[0,2].legend(handles=handles, labels=labels, loc='center right', ncol=1)\n",
    "plt.savefig(\"plots/Figure3.pdf\", dpi=dpi, format=\"pdf\")\n",
    "plt.show()"
   ]
  },
  {
   "cell_type": "markdown",
   "id": "5f450830ad978b53",
   "metadata": {
    "collapsed": false
   },
   "source": [
    "## Figure 4\n",
    "Time lag between approval and recall of the devices."
   ]
  },
  {
   "cell_type": "code",
   "execution_count": null,
   "id": "964d9568c4def0a1",
   "metadata": {
    "collapsed": false
   },
   "outputs": [],
   "source": [
    "df_recall = df.loc[df[\"Recall\"]==\"Recalled device\", [\"Date of Final Decision\", \"FDA Recall Posting Date\", \"Device\", \"Physical State\", \"Submission Number\"]].reset_index(drop=True)"
   ]
  },
  {
   "cell_type": "code",
   "execution_count": null,
   "id": "228db91bf5dba697",
   "metadata": {
    "collapsed": false
   },
   "outputs": [],
   "source": [
    "# Legend handles\n",
    "line_software, line_other = None, None\n",
    "dot_circle, dot_x = None, None\n",
    "fig, ax = plt.subplots(1, figsize=(10, 15))\n",
    "for i, row in df_recall.iterrows():\n",
    "    i_color = 1 if row[\"Physical State\"] == \"Software\" else 0\n",
    "    line = ax.plot(row.iloc[0:2].values, [i, i], '-', linewidth=4, color=list(plt.cm.tab10.colors)[i_color],\n",
    "                   label=\"Software\" if i_color == 1 and line_software is None else\n",
    "                         \"Software + Device\" if i_color == 0 and line_other is None else None)\n",
    "    if i_color == 1 and line_software is None:\n",
    "        line_software = line  # Store reference for legend\n",
    "    elif i_color == 0 and line_other is None:\n",
    "        line_other = line\n",
    "    dot_o = plt.plot(row.iloc[0], [i], marker='o', markersize=6, color=list(plt.cm.tab10.colors)[2], markeredgewidth=3,\n",
    "                     label=\"Approval Date\" if dot_circle is None else None, linestyle='None')\n",
    "    dot_x = plt.plot(row.iloc[1], [i], marker='x', markersize=7, color=list(plt.cm.tab10.colors)[3], markeredgewidth=3,\n",
    "                     label=\"Recall Date\" if dot_x is None else None, linestyle='None')\n",
    "    if dot_circle is None:\n",
    "        dot_circle = dot_o\n",
    "    if dot_x is None:\n",
    "        dot_x = dot_x\n",
    "    ax.hlines(y=i, xmin=df_recall[\"Date of Final Decision\"].min(), xmax=row.iloc[0], alpha=0.1, color=\"black\", ls=\":\")\n",
    "\n",
    "plt.yticks(np.arange(len(df_recall)), df_recall[\"Submission Number\"])\n",
    "plt.ylabel(\"\")\n",
    "plt.xlabel(\"Year\")\n",
    "handles, labels = plt.gca().get_legend_handles_labels()\n",
    "order = [3,0,1,2]\n",
    "plt.legend([handles[idx] for idx in order],[labels[idx] for idx in order], fontsize=14)\n",
    "plt.savefig(\"plots/Figure4.pdf\", dpi=dpi, bbox_inches='tight', format=\"pdf\")\n",
    "plt.show()"
   ]
  },
  {
   "cell_type": "markdown",
   "id": "57cd84fd3fdcc682",
   "metadata": {
    "collapsed": false
   },
   "source": [
    "## Appendix 1\n",
    "Cumulative histogram of available and recalled AI-enabled medical devices that received FDA approval over the period 1995-2024."
   ]
  },
  {
   "cell_type": "code",
   "execution_count": null,
   "id": "a69357c20f6dccf2",
   "metadata": {
    "collapsed": false
   },
   "outputs": [],
   "source": [
    "date_0 = df[df[\"Recall\"]==\"Available device\"][\"Date of Final Decision\"].sort_values().values\n",
    "date_1 = df[df[\"Recall\"]==\"Recalled device\"][\"Date of Final Decision\"].sort_values().values\n",
    "count_0 = np.arange(1, len(date_0) +1 )\n",
    "count_1 = np.arange(1, len(date_1) +1 )\n",
    "fig, ax = plt.subplots(1)\n",
    "plt.plot(date_0, count_0, linewidth=2.5, label=\"0\", zorder=1)\n",
    "plt.plot(date_1, count_1, linewidth=2.5, label=\"1\", zorder=0)\n",
    "plt.xlabel(\"Year of approval\", fontsize=12)\n",
    "plt.ylabel(\"Number of devices\", fontsize=12)\n",
    "plt.grid(alpha=0.5, axis=\"y\")\n",
    "ax.spines['top'].set_visible(False)\n",
    "ax.spines['right'].set_visible(False)\n",
    "plt.legend([\"Available devices\", \"Recalled devices\"], title=\"\")\n",
    "plt.savefig(\"plots/Appendix1.pdf\", dpi=600, format=\"pdf\")\n",
    "plt.show()"
   ]
  },
  {
   "cell_type": "markdown",
   "id": "f9a84a178e959800",
   "metadata": {
    "collapsed": false
   },
   "source": [
    "## Appendix 2\n",
    "Total number of available FDA-approved AI-enabled medical devices by country (panel above). Total number of recalled devices after FDA-approval by country (panel below)."
   ]
  },
  {
   "cell_type": "code",
   "execution_count": null,
   "id": "b1cfae51199b905",
   "metadata": {
    "collapsed": false
   },
   "outputs": [],
   "source": [
    "colors = [\"Viridis\", \"YlOrRd_r\"]\n",
    "names = [\"all\", \"recalled\"]\n",
    "legend_titles = [\"Approved devices\", \"Recalled devices\"]\n",
    "for i, df_plot in enumerate([df_counts, df_counts_recall]):\n",
    "    fig = go.Figure(data=go.Choropleth(\n",
    "        locations = df_plot['alpha_code'],\n",
    "        z = df_plot['count'],\n",
    "        text = df['Country Applicant'],\n",
    "        colorscale = colors[i],\n",
    "        autocolorscale=False,\n",
    "        reversescale=True,\n",
    "        marker_line_color='darkgray',\n",
    "        marker_line_width=0.5,\n",
    "        colorbar_title = legend_titles[i],\n",
    "        colorbar_len = 0.6\n",
    "    ))\n",
    "    \n",
    "    fig.update_layout(\n",
    "        margin={\"r\":0,\"t\":0,\"l\":0,\"b\":0},\n",
    "        geo=dict(\n",
    "            showframe=False,\n",
    "            showcoastlines=True,\n",
    "            projection_type='natural earth'\n",
    "        )\n",
    "    )\n",
    "    fig.write_image(f\"plots/Appendix2_{i}.pdf\", scale=2)\n",
    "    fig.show()"
   ]
  },
  {
   "cell_type": "markdown",
   "id": "cf271bc0eab7d2cc",
   "metadata": {
    "collapsed": false
   },
   "source": [
    "## Appendix 3\n",
    "Distribution of AI-enabled medical devices availability and physical state across the available specialties."
   ]
  },
  {
   "cell_type": "code",
   "execution_count": null,
   "id": "e228d190d4fb0151",
   "metadata": {
    "collapsed": false
   },
   "outputs": [],
   "source": [
    "df_sankey = df.copy()\n",
    "df_sankey[\"approved\"] = \"FDA approved\"\n",
    "df_sankey[\"Recall\"] = df_sankey[\"Recall\"].map({\"Recalled device\": \"Recalled\", \"Available device\": \"Still available\"})\n",
    "sankey_recalled = SankeyPlot(df_sankey, target_list=[\"approved\", \"Recall\", \"Physical State\", \"specialty\"])\n",
    "fig = sankey_recalled.plot_sankey(\"plots/Appendix3.pdf\", show_numbers=True, title=None)\n",
    "fig"
   ]
  },
  {
   "cell_type": "markdown",
   "id": "8e5420c653d9cfb2",
   "metadata": {
    "collapsed": false
   },
   "source": [
    "## Appendix 4\n",
    "Number of clinical performance studies by the physical state of the AI-enabled medical device in separate for recalled and available AI-enabled medical devices."
   ]
  },
  {
   "cell_type": "code",
   "execution_count": null,
   "id": "40da7046d48e93e6",
   "metadata": {
    "collapsed": false
   },
   "outputs": [],
   "source": [
    "cp_features = [\"Clinical Performance Study\", \"CP Study-type\", \"CP N samples\",\n",
    "               \"CP N clinical sites \", \"CP results sex available\", \"CP results age available\",\n",
    "               \"CP detailed result values available\", \"AUC\", \"Sensitivity\", \"Specificity\"]\n",
    "df_cp = df[cp_features + [\"Geographic area\", \"Recall\", \"specialty\", \"Physical State\"]].replace(\n",
    "    {\"summary not available\": np.nan})\n",
    "df_cp = df_cp.fillna(\"Missing info\")"
   ]
  },
  {
   "cell_type": "code",
   "execution_count": null,
   "id": "e8ba4f2e2f68d6ad",
   "metadata": {
    "collapsed": false
   },
   "outputs": [],
   "source": [
    "df_cp[\"Clinical Performance Study\"] = df_cp[\"Clinical Performance Study\"].apply(str.capitalize)\n",
    "\n",
    "df_cp[\"order\"] = df_cp[\"Clinical Performance Study\"].apply(lambda x: {'Yes': 0, 'No': 1, 'Missing info': 2}[x])\n",
    "df_cp = df_cp.sort_values(\"order\")"
   ]
  },
  {
   "cell_type": "code",
   "execution_count": null,
   "id": "ca7983cfb53bc02e",
   "metadata": {
    "collapsed": false
   },
   "outputs": [],
   "source": [
    "sns.histplot(df_cp, hue=\"Clinical Performance Study\", x=\"Physical State\", multiple=\"dodge\", shrink=.7, stat=\"count\", common_norm=True)\n",
    "plt.savefig(\"plots/Appendix4_all.pdf\", dpi=dpi, bbox_inches='tight', format=\"pdf\")\n",
    "plt.show()"
   ]
  },
  {
   "cell_type": "code",
   "execution_count": null,
   "id": "69a7c4fdc78635c3",
   "metadata": {
    "collapsed": false
   },
   "outputs": [],
   "source": [
    "sns.reset_defaults()\n",
    "df_cp[\"Recall\"] = df_cp[\"Recall\"].replace({\"no\": \"Available device\", \"yes\": \"Recalled device\"})\n",
    "fig, ax = plt.subplots(1, 2, figsize=(13, 5), sharey=False)\n",
    "# Available\n",
    "sns.histplot(df_cp[df_cp[\"Recall\"]==\"Recalled device\"], hue=\"Clinical Performance Study\", x=\"Physical State\", multiple=\"dodge\", shrink=.7, stat=\"count\", common_norm=True, ax=ax[0])\n",
    "# ax[0].legend(loc=\"upper right\", title=\"Clinical Performance Study\")\n",
    "ax[0].set_title(\"Recalled\", fontweight=\"bold\")\n",
    "ax[0].set_ylabel(\"Number of devices\")\n",
    "\n",
    "sns.histplot(df_cp[df_cp[\"Recall\"]==\"Available device\"], hue=\"Clinical Performance Study\", x=\"Physical State\", multiple=\"dodge\", shrink=.7, stat=\"count\", common_norm=True, ax=ax[1])\n",
    "# ax[1].legend([\"Yes\", \"Missing info\", \"No\"], loc=\"upper left\", title=\"Clinical Performance Study\")\n",
    "# ax[1].get_legend().remove()\n",
    "ax[1].set_title(\"Available\", fontweight=\"bold\")\n",
    "ax[1].set_ylabel(\"Number of devices\")\n",
    "\n",
    "plt.subplots_adjust(wspace=0.2)\n",
    "plt.savefig(\"plots/Appendix4_recalled_available.pdf\", dpi=dpi, bbox_inches='tight', format=\"pdf\")\n",
    "plt.show()"
   ]
  },
  {
   "cell_type": "markdown",
   "id": "79deb6b4e838b772",
   "metadata": {
    "collapsed": false
   },
   "source": [
    "## Appendix 5\n",
    "Number of FDA-approved AI-enabled medical devices by specialty, together with details of clinical performance (CP) study type. Recalled devices are reported on the left-hand panel, while still-available devices are on the right-hand panel."
   ]
  },
  {
   "cell_type": "code",
   "execution_count": null,
   "id": "fb4aea1820538827",
   "metadata": {
    "collapsed": false
   },
   "outputs": [],
   "source": [
    "sns.reset_defaults()\n",
    "fig, ax = plt.subplots(1,2, figsize=(20, 8))\n",
    "sns.set(font_scale=1.3)\n",
    "sns.histplot(df_x[df_x[\"Recall\"]==\"yes\"], y=\"specialty\", hue=\"CP Study-type\", multiple=\"dodge\", fill=True, shrink=0.6, ax=ax[0], legend=False)\n",
    "sns.histplot(df_x[df_x[\"Recall\"]==\"no\"], y=\"specialty\", hue=\"CP Study-type\", multiple=\"dodge\", fill=True, shrink=0.6, ax=ax[1])\n",
    "ax[0].set_title(\"Recalled\", fontsize=16, fontweight=\"bold\")\n",
    "ax[1].set_title(\"Available\", fontsize=16, fontweight=\"bold\")\n",
    "ax[0].set_xlabel(\"Number of devices\", fontsize=14)\n",
    "ax[1].set_xlabel(\"Number of  devices\", fontsize=14)\n",
    "ax[0].set_ylabel(\"\")\n",
    "ax[1].set_ylabel(\"\")\n",
    "ax[0].tick_params(axis='y', which='major', labelsize=15)\n",
    "ax[0].xaxis.set_major_locator(MaxNLocator(integer=True))\n",
    "ax[1].axes.yaxis.set_ticklabels([])\n",
    "sns.move_legend(ax[1], loc=\"lower right\", facecolor=\"white\")\n",
    "ax[1].get_legend().set_title(\"Clinical performance study\")\n",
    "plt.subplots_adjust(wspace=0.05)\n",
    "plt.savefig(\"plots/Appendix5.pdf\", dpi=dpi, bbox_inches='tight', format=\"pdf\")\n",
    "plt.show()"
   ]
  }
 ],
 "metadata": {
  "kernelspec": {
   "display_name": "Python 3 (ipykernel)",
   "language": "python",
   "name": "python3"
  },
  "language_info": {
   "codemirror_mode": {
    "name": "ipython",
    "version": 3
   },
   "file_extension": ".py",
   "mimetype": "text/x-python",
   "name": "python",
   "nbconvert_exporter": "python",
   "pygments_lexer": "ipython3",
   "version": "3.10.12"
  }
 },
 "nbformat": 4,
 "nbformat_minor": 5
}

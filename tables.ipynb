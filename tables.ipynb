{
 "cells": [
  {
   "cell_type": "markdown",
   "id": "7792cb46224d489e",
   "metadata": {
    "collapsed": false
   },
   "source": [
    "# Tables"
   ]
  },
  {
   "cell_type": "code",
   "outputs": [],
   "source": [
    "import os\n",
    "import warnings\n",
    "import pandas as pd\n",
    "from tableone import TableOne"
   ],
   "metadata": {
    "collapsed": false
   },
   "id": "14e818f3689d81a8",
   "execution_count": null
  },
  {
   "cell_type": "code",
   "outputs": [],
   "source": [
    "# Import dataset\n",
    "df = pd.read_excel(\"dataset_fda_devices.xlsx\")\n",
    "df[\"Recall\"] = df[\"Recall\"].replace({\"no\": \"Available\", \"yes\": \"Recalled\"})"
   ],
   "metadata": {
    "collapsed": false
   },
   "id": "eeffe319ca03a0fc",
   "execution_count": null
  },
  {
   "cell_type": "code",
   "outputs": [],
   "source": [
    "df[\"Summary Malfunction Reporting\"] = df[\"Summary Malfunction Reporting\"].replace({\"no\": \"ineligible\"}).apply(str.capitalize)\n",
    "df[\"Clinical Performance Study\"] = df[\"Clinical Performance Study\"].apply(lambda x: \"Missing information\" if x not in [\"yes\", \"no\"] else x.capitalize())\n",
    "for col in [\"DICOM compliance\", \"CP results sex available\", \"CP results age available\"]:\n",
    "    df[col] = df[col].apply(lambda x: \"Missing information\" if x != \"yes\" else \"Yes\")"
   ],
   "metadata": {
    "collapsed": false
   },
   "id": "3dd6756341aeeec1",
   "execution_count": null
  },
  {
   "cell_type": "code",
   "outputs": [],
   "source": [
    "# Dates to datetime format\n",
    "date_columns = [col for col in df.columns if \"Date\" in col]\n",
    "df[date_columns] = df[date_columns].apply(pd.to_datetime)\n",
    "df[\"Decision Time\"] = (df[\"Decision Date\"] - df[\"Date Received\"]).dt.days\n",
    "df[\"Recall Time\"] = (df[\"FDA Recall Posting Date\"] - df[\"Date of Final Decision\"]).dt.days"
   ],
   "metadata": {
    "collapsed": false
   },
   "id": "9b8774273bf7281b",
   "execution_count": null
  },
  {
   "cell_type": "code",
   "outputs": [],
   "source": [
    "panels = [\"Anesthesiology\", \"Cardiovascular\", \"Gastroenterology/Urology\", \"Hematology\", \"Neurology\", \"Ophthalmic\", \"Radiology\"]\n",
    "df[\"Panel\"] = df[\"Panel (Lead)\"].apply(lambda x: \"Other\" if x not in panels else x)"
   ],
   "metadata": {
    "collapsed": false
   },
   "id": "fd068140035c9cfc",
   "execution_count": null
  },
  {
   "cell_type": "code",
   "execution_count": null,
   "id": "3d60a1e5125b9148",
   "metadata": {
    "collapsed": false
   },
   "outputs": [],
   "source": [
    "warnings.filterwarnings('ignore')\n",
    "columns = [\"Geographic area\", \"Panel\", \"Submission Type\", \"Eligible for Third Party Review\", \"Summary Malfunction Reporting\",\n",
    "           \"Implanted Device\", \"Physical State\", \"DICOM compliance\", \"Clinical Performance Study\", \"Decision Time\", \"Recall Time\"]\n",
    "non_normal = [\"Decision Time\", \"Recall Time\"]\n",
    "categorical = [col for col in columns if col not in non_normal]\n",
    "for column in columns:\n",
    "    if df[column].dtype =='0':\n",
    "        df[column] = df[column].apply(str.capitalize)\n",
    "table_all = TableOne(df, columns=columns, categorical=categorical, nonnormal=non_normal, groupby=\"Recall\", missing=False, decimals=0)\n",
    "os.makedirs(\"tables\", exist_ok=True)\n",
    "table_all.to_excel(f\"tables/Table1_1.xlsx\")\n",
    "print(table_all.tabulate(tablefmt=\"fancygrid\"))"
   ]
  },
  {
   "cell_type": "code",
   "execution_count": null,
   "id": "79bc5129d95d21cc",
   "metadata": {
    "collapsed": false
   },
   "outputs": [],
   "source": [
    "df_cp = df[df[\"Clinical Performance Study\"] == \"Yes\"].copy()\n",
    "columns = [\"CP Study-type\", \"CP results sex available\", \"CP results age available\"]\n",
    "table_all = TableOne(df_cp, columns=columns, categorical=columns, groupby=\"Recall\", missing=False, decimals=0)\n",
    "os.makedirs(\"tables\", exist_ok=True)\n",
    "table_all.to_excel(f\"tables/Table1_2.xlsx\")\n",
    "print(table_all.tabulate(tablefmt=\"fancygrid\"))"
   ]
  }
 ],
 "metadata": {
  "kernelspec": {
   "display_name": "Python 3 (ipykernel)",
   "language": "python",
   "name": "python3"
  },
  "language_info": {
   "codemirror_mode": {
    "name": "ipython",
    "version": 3
   },
   "file_extension": ".py",
   "mimetype": "text/x-python",
   "name": "python",
   "nbconvert_exporter": "python",
   "pygments_lexer": "ipython3",
   "version": "3.10.12"
  }
 },
 "nbformat": 4,
 "nbformat_minor": 5
}
